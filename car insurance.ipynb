{
 "cells": [
  {
   "cell_type": "markdown",
   "id": "a6bfcad2",
   "metadata": {},
   "source": [
    "This dataset contains data of an insurance company provided by Onyx data.\n",
    "\n",
    "* **marital_status**: Gives information about the marital status of customers; married, single,divorced, seperated.\n",
    "* **Car_use**: Gives information about the purpose of the car if it is for commercial use or private.\n",
    "* **gender**: Gives information about the the gender of the customers male or female.\n",
    "* **Parent**: If a customer is a parent or not.\n",
    "* **Education**: Gives information about the level of education of the customers.\n",
    "* **car_make**: Gives information about which car manufacturer a customrr is using e.g Acura, Nissan.\n",
    "* **car_year**: Gives information about year the car came out.\n",
    "* **car_color**: Gives information about the color of the car\n",
    "* **claim_freq**: Gives information about the number of times a customer has claimed insurance.\n",
    "* **coverage_zone**: Gives information about the area in which the service is being provided; urban,suburban, rural, highly urban and highly rural\n",
    "* **claim_amt**: Gives information about amount of monry to be claimed by the customer.\n",
    "* **household_income**: Gives information about income of the customers\n"
   ]
  },
  {
   "cell_type": "code",
   "execution_count": 3,
   "id": "fab3dafa",
   "metadata": {},
   "outputs": [],
   "source": [
    "#importing important libraries\n",
    "import numpy as np\n",
    "import pandas as pd\n",
    "import matplotlib.pyplot as plt\n",
    "import seaborn as sns\n",
    "%matplotlib inline\n",
    "import re\n",
    "from datetime import datetime\n",
    "from datetime import timedelta\n",
    "from scipy.stats import chi2_contingency\n",
    "from scipy.stats import f_oneway"
   ]
  },
  {
   "cell_type": "code",
   "execution_count": 4,
   "id": "bf055486",
   "metadata": {},
   "outputs": [
    {
     "data": {
      "text/html": [
       "<div>\n",
       "<style scoped>\n",
       "    .dataframe tbody tr th:only-of-type {\n",
       "        vertical-align: middle;\n",
       "    }\n",
       "\n",
       "    .dataframe tbody tr th {\n",
       "        vertical-align: top;\n",
       "    }\n",
       "\n",
       "    .dataframe thead th {\n",
       "        text-align: right;\n",
       "    }\n",
       "</style>\n",
       "<table border=\"1\" class=\"dataframe\">\n",
       "  <thead>\n",
       "    <tr style=\"text-align: right;\">\n",
       "      <th></th>\n",
       "      <th>ID</th>\n",
       "      <th>birthdate</th>\n",
       "      <th>marital_status</th>\n",
       "      <th>car_use</th>\n",
       "      <th>gender</th>\n",
       "      <th>kids_driving</th>\n",
       "      <th>parent</th>\n",
       "      <th>education</th>\n",
       "      <th>car_make</th>\n",
       "      <th>car_model</th>\n",
       "      <th>car_color</th>\n",
       "      <th>car_year</th>\n",
       "      <th>claim_freq</th>\n",
       "      <th>coverage_zone</th>\n",
       "      <th>claim_amt</th>\n",
       "      <th>household_income</th>\n",
       "    </tr>\n",
       "  </thead>\n",
       "  <tbody>\n",
       "    <tr>\n",
       "      <th>0</th>\n",
       "      <td>62-2999778</td>\n",
       "      <td>09/08/1962</td>\n",
       "      <td>Single</td>\n",
       "      <td>Private</td>\n",
       "      <td>Male</td>\n",
       "      <td>2</td>\n",
       "      <td>Yes</td>\n",
       "      <td>High School</td>\n",
       "      <td>Acura</td>\n",
       "      <td>TSX</td>\n",
       "      <td>Green</td>\n",
       "      <td>2010</td>\n",
       "      <td>1</td>\n",
       "      <td>Highly Urban</td>\n",
       "      <td>73759.88</td>\n",
       "      <td>220436.66</td>\n",
       "    </tr>\n",
       "    <tr>\n",
       "      <th>1</th>\n",
       "      <td>70-2426103</td>\n",
       "      <td>4/21/1988</td>\n",
       "      <td>Married</td>\n",
       "      <td>Private</td>\n",
       "      <td>Female</td>\n",
       "      <td>0</td>\n",
       "      <td>No</td>\n",
       "      <td>Bachelors</td>\n",
       "      <td>Corbin</td>\n",
       "      <td>Sparrow</td>\n",
       "      <td>Turquoise</td>\n",
       "      <td>2004</td>\n",
       "      <td>1</td>\n",
       "      <td>Urban</td>\n",
       "      <td>78975.41</td>\n",
       "      <td>66491.43</td>\n",
       "    </tr>\n",
       "    <tr>\n",
       "      <th>2</th>\n",
       "      <td>08-3808219</td>\n",
       "      <td>08/03/1999</td>\n",
       "      <td>Divorced</td>\n",
       "      <td>Private</td>\n",
       "      <td>Male</td>\n",
       "      <td>0</td>\n",
       "      <td>No</td>\n",
       "      <td>Bachelors</td>\n",
       "      <td>Nissan</td>\n",
       "      <td>Pathfinder</td>\n",
       "      <td>Orange</td>\n",
       "      <td>1993</td>\n",
       "      <td>0</td>\n",
       "      <td>Rural</td>\n",
       "      <td>30904.01</td>\n",
       "      <td>56122.70</td>\n",
       "    </tr>\n",
       "    <tr>\n",
       "      <th>3</th>\n",
       "      <td>38-0306843</td>\n",
       "      <td>10/05/1959</td>\n",
       "      <td>Single</td>\n",
       "      <td>Private</td>\n",
       "      <td>Female</td>\n",
       "      <td>0</td>\n",
       "      <td>No</td>\n",
       "      <td>Bachelors</td>\n",
       "      <td>Ford</td>\n",
       "      <td>Econoline E350</td>\n",
       "      <td>Pink</td>\n",
       "      <td>2000</td>\n",
       "      <td>1</td>\n",
       "      <td>Highly Urban</td>\n",
       "      <td>30257.82</td>\n",
       "      <td>175182.61</td>\n",
       "    </tr>\n",
       "    <tr>\n",
       "      <th>4</th>\n",
       "      <td>47-5163637</td>\n",
       "      <td>1/15/1992</td>\n",
       "      <td>Single</td>\n",
       "      <td>Commercial</td>\n",
       "      <td>Male</td>\n",
       "      <td>0</td>\n",
       "      <td>No</td>\n",
       "      <td>Masters</td>\n",
       "      <td>Nissan</td>\n",
       "      <td>350Z</td>\n",
       "      <td>Green</td>\n",
       "      <td>2006</td>\n",
       "      <td>3</td>\n",
       "      <td>Rural</td>\n",
       "      <td>50434.02</td>\n",
       "      <td>137110.23</td>\n",
       "    </tr>\n",
       "  </tbody>\n",
       "</table>\n",
       "</div>"
      ],
      "text/plain": [
       "           ID   birthdate marital_status     car_use  gender  kids_driving  \\\n",
       "0  62-2999778  09/08/1962         Single     Private    Male             2   \n",
       "1  70-2426103   4/21/1988        Married     Private  Female             0   \n",
       "2  08-3808219  08/03/1999       Divorced     Private    Male             0   \n",
       "3  38-0306843  10/05/1959         Single     Private  Female             0   \n",
       "4  47-5163637   1/15/1992         Single  Commercial    Male             0   \n",
       "\n",
       "  parent    education car_make       car_model  car_color  car_year  \\\n",
       "0    Yes  High School    Acura             TSX      Green      2010   \n",
       "1     No    Bachelors   Corbin         Sparrow  Turquoise      2004   \n",
       "2     No    Bachelors   Nissan      Pathfinder     Orange      1993   \n",
       "3     No    Bachelors     Ford  Econoline E350       Pink      2000   \n",
       "4     No      Masters   Nissan            350Z      Green      2006   \n",
       "\n",
       "   claim_freq coverage_zone  claim_amt  household_income  \n",
       "0           1  Highly Urban   73759.88         220436.66  \n",
       "1           1         Urban   78975.41          66491.43  \n",
       "2           0         Rural   30904.01          56122.70  \n",
       "3           1  Highly Urban   30257.82         175182.61  \n",
       "4           3         Rural   50434.02         137110.23  "
      ]
     },
     "execution_count": 4,
     "metadata": {},
     "output_type": "execute_result"
    }
   ],
   "source": [
    "#import data\n",
    "car = pd.read_csv(\"car insurance.csv\")\n",
    "car.head()"
   ]
  },
  {
   "cell_type": "code",
   "execution_count": 5,
   "id": "be55caeb",
   "metadata": {},
   "outputs": [
    {
     "data": {
      "text/html": [
       "<div>\n",
       "<style scoped>\n",
       "    .dataframe tbody tr th:only-of-type {\n",
       "        vertical-align: middle;\n",
       "    }\n",
       "\n",
       "    .dataframe tbody tr th {\n",
       "        vertical-align: top;\n",
       "    }\n",
       "\n",
       "    .dataframe thead th {\n",
       "        text-align: right;\n",
       "    }\n",
       "</style>\n",
       "<table border=\"1\" class=\"dataframe\">\n",
       "  <thead>\n",
       "    <tr style=\"text-align: right;\">\n",
       "      <th></th>\n",
       "      <th>ID</th>\n",
       "      <th>birthdate</th>\n",
       "      <th>marital_status</th>\n",
       "      <th>car_use</th>\n",
       "      <th>gender</th>\n",
       "      <th>kids_driving</th>\n",
       "      <th>parent</th>\n",
       "      <th>education</th>\n",
       "      <th>car_make</th>\n",
       "      <th>car_model</th>\n",
       "      <th>car_color</th>\n",
       "      <th>car_year</th>\n",
       "      <th>claim_freq</th>\n",
       "      <th>coverage_zone</th>\n",
       "      <th>claim_amt</th>\n",
       "      <th>household_income</th>\n",
       "    </tr>\n",
       "  </thead>\n",
       "  <tbody>\n",
       "  </tbody>\n",
       "</table>\n",
       "</div>"
      ],
      "text/plain": [
       "Empty DataFrame\n",
       "Columns: [ID, birthdate, marital_status, car_use, gender, kids_driving, parent, education, car_make, car_model, car_color, car_year, claim_freq, coverage_zone, claim_amt, household_income]\n",
       "Index: []"
      ]
     },
     "execution_count": 5,
     "metadata": {},
     "output_type": "execute_result"
    }
   ],
   "source": [
    "car[car.duplicated()]"
   ]
  },
  {
   "cell_type": "code",
   "execution_count": 6,
   "id": "99cc58b3",
   "metadata": {},
   "outputs": [
    {
     "data": {
      "text/plain": [
       "ID                  0\n",
       "birthdate           0\n",
       "marital_status      0\n",
       "car_use             0\n",
       "gender              0\n",
       "kids_driving        0\n",
       "parent              0\n",
       "education           0\n",
       "car_make            0\n",
       "car_model           0\n",
       "car_color           0\n",
       "car_year            0\n",
       "claim_freq          0\n",
       "coverage_zone       0\n",
       "claim_amt           0\n",
       "household_income    0\n",
       "dtype: int64"
      ]
     },
     "execution_count": 6,
     "metadata": {},
     "output_type": "execute_result"
    }
   ],
   "source": [
    "#checking for null values\n",
    "car.isnull().sum()"
   ]
  },
  {
   "cell_type": "code",
   "execution_count": 7,
   "id": "cc9bd0c8",
   "metadata": {},
   "outputs": [
    {
     "data": {
      "text/html": [
       "<div>\n",
       "<style scoped>\n",
       "    .dataframe tbody tr th:only-of-type {\n",
       "        vertical-align: middle;\n",
       "    }\n",
       "\n",
       "    .dataframe tbody tr th {\n",
       "        vertical-align: top;\n",
       "    }\n",
       "\n",
       "    .dataframe thead th {\n",
       "        text-align: right;\n",
       "    }\n",
       "</style>\n",
       "<table border=\"1\" class=\"dataframe\">\n",
       "  <thead>\n",
       "    <tr style=\"text-align: right;\">\n",
       "      <th></th>\n",
       "      <th>ID</th>\n",
       "      <th>birthdate</th>\n",
       "      <th>marital_status</th>\n",
       "      <th>car_use</th>\n",
       "      <th>gender</th>\n",
       "      <th>kids_driving</th>\n",
       "      <th>parent</th>\n",
       "      <th>education</th>\n",
       "      <th>car_make</th>\n",
       "      <th>car_model</th>\n",
       "      <th>car_color</th>\n",
       "      <th>car_year</th>\n",
       "      <th>claim_freq</th>\n",
       "      <th>coverage_zone</th>\n",
       "      <th>claim_amt</th>\n",
       "      <th>household_income</th>\n",
       "      <th>birth</th>\n",
       "    </tr>\n",
       "  </thead>\n",
       "  <tbody>\n",
       "    <tr>\n",
       "      <th>0</th>\n",
       "      <td>62-2999778</td>\n",
       "      <td>09/08/1962</td>\n",
       "      <td>Single</td>\n",
       "      <td>Private</td>\n",
       "      <td>Male</td>\n",
       "      <td>2</td>\n",
       "      <td>Yes</td>\n",
       "      <td>High School</td>\n",
       "      <td>Acura</td>\n",
       "      <td>TSX</td>\n",
       "      <td>Green</td>\n",
       "      <td>2010</td>\n",
       "      <td>1</td>\n",
       "      <td>Highly Urban</td>\n",
       "      <td>73759.88</td>\n",
       "      <td>220436.66</td>\n",
       "      <td>1962</td>\n",
       "    </tr>\n",
       "    <tr>\n",
       "      <th>1</th>\n",
       "      <td>70-2426103</td>\n",
       "      <td>4/21/1988</td>\n",
       "      <td>Married</td>\n",
       "      <td>Private</td>\n",
       "      <td>Female</td>\n",
       "      <td>0</td>\n",
       "      <td>No</td>\n",
       "      <td>Bachelors</td>\n",
       "      <td>Corbin</td>\n",
       "      <td>Sparrow</td>\n",
       "      <td>Turquoise</td>\n",
       "      <td>2004</td>\n",
       "      <td>1</td>\n",
       "      <td>Urban</td>\n",
       "      <td>78975.41</td>\n",
       "      <td>66491.43</td>\n",
       "      <td>1988</td>\n",
       "    </tr>\n",
       "    <tr>\n",
       "      <th>2</th>\n",
       "      <td>08-3808219</td>\n",
       "      <td>08/03/1999</td>\n",
       "      <td>Divorced</td>\n",
       "      <td>Private</td>\n",
       "      <td>Male</td>\n",
       "      <td>0</td>\n",
       "      <td>No</td>\n",
       "      <td>Bachelors</td>\n",
       "      <td>Nissan</td>\n",
       "      <td>Pathfinder</td>\n",
       "      <td>Orange</td>\n",
       "      <td>1993</td>\n",
       "      <td>0</td>\n",
       "      <td>Rural</td>\n",
       "      <td>30904.01</td>\n",
       "      <td>56122.70</td>\n",
       "      <td>1999</td>\n",
       "    </tr>\n",
       "    <tr>\n",
       "      <th>3</th>\n",
       "      <td>38-0306843</td>\n",
       "      <td>10/05/1959</td>\n",
       "      <td>Single</td>\n",
       "      <td>Private</td>\n",
       "      <td>Female</td>\n",
       "      <td>0</td>\n",
       "      <td>No</td>\n",
       "      <td>Bachelors</td>\n",
       "      <td>Ford</td>\n",
       "      <td>Econoline E350</td>\n",
       "      <td>Pink</td>\n",
       "      <td>2000</td>\n",
       "      <td>1</td>\n",
       "      <td>Highly Urban</td>\n",
       "      <td>30257.82</td>\n",
       "      <td>175182.61</td>\n",
       "      <td>1959</td>\n",
       "    </tr>\n",
       "    <tr>\n",
       "      <th>4</th>\n",
       "      <td>47-5163637</td>\n",
       "      <td>1/15/1992</td>\n",
       "      <td>Single</td>\n",
       "      <td>Commercial</td>\n",
       "      <td>Male</td>\n",
       "      <td>0</td>\n",
       "      <td>No</td>\n",
       "      <td>Masters</td>\n",
       "      <td>Nissan</td>\n",
       "      <td>350Z</td>\n",
       "      <td>Green</td>\n",
       "      <td>2006</td>\n",
       "      <td>3</td>\n",
       "      <td>Rural</td>\n",
       "      <td>50434.02</td>\n",
       "      <td>137110.23</td>\n",
       "      <td>1992</td>\n",
       "    </tr>\n",
       "  </tbody>\n",
       "</table>\n",
       "</div>"
      ],
      "text/plain": [
       "           ID   birthdate marital_status     car_use  gender  kids_driving  \\\n",
       "0  62-2999778  09/08/1962         Single     Private    Male             2   \n",
       "1  70-2426103   4/21/1988        Married     Private  Female             0   \n",
       "2  08-3808219  08/03/1999       Divorced     Private    Male             0   \n",
       "3  38-0306843  10/05/1959         Single     Private  Female             0   \n",
       "4  47-5163637   1/15/1992         Single  Commercial    Male             0   \n",
       "\n",
       "  parent    education car_make       car_model  car_color  car_year  \\\n",
       "0    Yes  High School    Acura             TSX      Green      2010   \n",
       "1     No    Bachelors   Corbin         Sparrow  Turquoise      2004   \n",
       "2     No    Bachelors   Nissan      Pathfinder     Orange      1993   \n",
       "3     No    Bachelors     Ford  Econoline E350       Pink      2000   \n",
       "4     No      Masters   Nissan            350Z      Green      2006   \n",
       "\n",
       "   claim_freq coverage_zone  claim_amt  household_income birth  \n",
       "0           1  Highly Urban   73759.88         220436.66  1962  \n",
       "1           1         Urban   78975.41          66491.43  1988  \n",
       "2           0         Rural   30904.01          56122.70  1999  \n",
       "3           1  Highly Urban   30257.82         175182.61  1959  \n",
       "4           3         Rural   50434.02         137110.23  1992  "
      ]
     },
     "execution_count": 7,
     "metadata": {},
     "output_type": "execute_result"
    }
   ],
   "source": [
    "#getting the year of birth in a column\n",
    "car['birth']= car['birthdate'].str[-4:]\n",
    "car.head()"
   ]
  },
  {
   "cell_type": "code",
   "execution_count": 8,
   "id": "a8c55fd4",
   "metadata": {},
   "outputs": [
    {
     "data": {
      "text/html": [
       "<div>\n",
       "<style scoped>\n",
       "    .dataframe tbody tr th:only-of-type {\n",
       "        vertical-align: middle;\n",
       "    }\n",
       "\n",
       "    .dataframe tbody tr th {\n",
       "        vertical-align: top;\n",
       "    }\n",
       "\n",
       "    .dataframe thead th {\n",
       "        text-align: right;\n",
       "    }\n",
       "</style>\n",
       "<table border=\"1\" class=\"dataframe\">\n",
       "  <thead>\n",
       "    <tr style=\"text-align: right;\">\n",
       "      <th></th>\n",
       "      <th>ID</th>\n",
       "      <th>birthdate</th>\n",
       "      <th>marital_status</th>\n",
       "      <th>car_use</th>\n",
       "      <th>gender</th>\n",
       "      <th>kids_driving</th>\n",
       "      <th>parent</th>\n",
       "      <th>education</th>\n",
       "      <th>car_make</th>\n",
       "      <th>car_model</th>\n",
       "      <th>car_color</th>\n",
       "      <th>car_year</th>\n",
       "      <th>claim_freq</th>\n",
       "      <th>coverage_zone</th>\n",
       "      <th>claim_amt</th>\n",
       "      <th>household_income</th>\n",
       "      <th>birth</th>\n",
       "      <th>date</th>\n",
       "    </tr>\n",
       "  </thead>\n",
       "  <tbody>\n",
       "    <tr>\n",
       "      <th>0</th>\n",
       "      <td>62-2999778</td>\n",
       "      <td>09/08/1962</td>\n",
       "      <td>Single</td>\n",
       "      <td>Private</td>\n",
       "      <td>Male</td>\n",
       "      <td>2</td>\n",
       "      <td>Yes</td>\n",
       "      <td>High School</td>\n",
       "      <td>Acura</td>\n",
       "      <td>TSX</td>\n",
       "      <td>Green</td>\n",
       "      <td>2010</td>\n",
       "      <td>1</td>\n",
       "      <td>Highly Urban</td>\n",
       "      <td>73759.88</td>\n",
       "      <td>220436.66</td>\n",
       "      <td>1962</td>\n",
       "      <td>2023</td>\n",
       "    </tr>\n",
       "    <tr>\n",
       "      <th>1</th>\n",
       "      <td>70-2426103</td>\n",
       "      <td>4/21/1988</td>\n",
       "      <td>Married</td>\n",
       "      <td>Private</td>\n",
       "      <td>Female</td>\n",
       "      <td>0</td>\n",
       "      <td>No</td>\n",
       "      <td>Bachelors</td>\n",
       "      <td>Corbin</td>\n",
       "      <td>Sparrow</td>\n",
       "      <td>Turquoise</td>\n",
       "      <td>2004</td>\n",
       "      <td>1</td>\n",
       "      <td>Urban</td>\n",
       "      <td>78975.41</td>\n",
       "      <td>66491.43</td>\n",
       "      <td>1988</td>\n",
       "      <td>2023</td>\n",
       "    </tr>\n",
       "    <tr>\n",
       "      <th>2</th>\n",
       "      <td>08-3808219</td>\n",
       "      <td>08/03/1999</td>\n",
       "      <td>Divorced</td>\n",
       "      <td>Private</td>\n",
       "      <td>Male</td>\n",
       "      <td>0</td>\n",
       "      <td>No</td>\n",
       "      <td>Bachelors</td>\n",
       "      <td>Nissan</td>\n",
       "      <td>Pathfinder</td>\n",
       "      <td>Orange</td>\n",
       "      <td>1993</td>\n",
       "      <td>0</td>\n",
       "      <td>Rural</td>\n",
       "      <td>30904.01</td>\n",
       "      <td>56122.70</td>\n",
       "      <td>1999</td>\n",
       "      <td>2023</td>\n",
       "    </tr>\n",
       "    <tr>\n",
       "      <th>3</th>\n",
       "      <td>38-0306843</td>\n",
       "      <td>10/05/1959</td>\n",
       "      <td>Single</td>\n",
       "      <td>Private</td>\n",
       "      <td>Female</td>\n",
       "      <td>0</td>\n",
       "      <td>No</td>\n",
       "      <td>Bachelors</td>\n",
       "      <td>Ford</td>\n",
       "      <td>Econoline E350</td>\n",
       "      <td>Pink</td>\n",
       "      <td>2000</td>\n",
       "      <td>1</td>\n",
       "      <td>Highly Urban</td>\n",
       "      <td>30257.82</td>\n",
       "      <td>175182.61</td>\n",
       "      <td>1959</td>\n",
       "      <td>2023</td>\n",
       "    </tr>\n",
       "    <tr>\n",
       "      <th>4</th>\n",
       "      <td>47-5163637</td>\n",
       "      <td>1/15/1992</td>\n",
       "      <td>Single</td>\n",
       "      <td>Commercial</td>\n",
       "      <td>Male</td>\n",
       "      <td>0</td>\n",
       "      <td>No</td>\n",
       "      <td>Masters</td>\n",
       "      <td>Nissan</td>\n",
       "      <td>350Z</td>\n",
       "      <td>Green</td>\n",
       "      <td>2006</td>\n",
       "      <td>3</td>\n",
       "      <td>Rural</td>\n",
       "      <td>50434.02</td>\n",
       "      <td>137110.23</td>\n",
       "      <td>1992</td>\n",
       "      <td>2023</td>\n",
       "    </tr>\n",
       "  </tbody>\n",
       "</table>\n",
       "</div>"
      ],
      "text/plain": [
       "           ID   birthdate marital_status     car_use  gender  kids_driving  \\\n",
       "0  62-2999778  09/08/1962         Single     Private    Male             2   \n",
       "1  70-2426103   4/21/1988        Married     Private  Female             0   \n",
       "2  08-3808219  08/03/1999       Divorced     Private    Male             0   \n",
       "3  38-0306843  10/05/1959         Single     Private  Female             0   \n",
       "4  47-5163637   1/15/1992         Single  Commercial    Male             0   \n",
       "\n",
       "  parent    education car_make       car_model  car_color  car_year  \\\n",
       "0    Yes  High School    Acura             TSX      Green      2010   \n",
       "1     No    Bachelors   Corbin         Sparrow  Turquoise      2004   \n",
       "2     No    Bachelors   Nissan      Pathfinder     Orange      1993   \n",
       "3     No    Bachelors     Ford  Econoline E350       Pink      2000   \n",
       "4     No      Masters   Nissan            350Z      Green      2006   \n",
       "\n",
       "   claim_freq coverage_zone  claim_amt  household_income birth  date  \n",
       "0           1  Highly Urban   73759.88         220436.66  1962  2023  \n",
       "1           1         Urban   78975.41          66491.43  1988  2023  \n",
       "2           0         Rural   30904.01          56122.70  1999  2023  \n",
       "3           1  Highly Urban   30257.82         175182.61  1959  2023  \n",
       "4           3         Rural   50434.02         137110.23  1992  2023  "
      ]
     },
     "execution_count": 8,
     "metadata": {},
     "output_type": "execute_result"
    }
   ],
   "source": [
    "car['date']=pd.Series(2023, index=car.index)\n",
    "car.head()"
   ]
  },
  {
   "cell_type": "code",
   "execution_count": 9,
   "id": "c5a06c35",
   "metadata": {
    "scrolled": true
   },
   "outputs": [
    {
     "data": {
      "text/html": [
       "<div>\n",
       "<style scoped>\n",
       "    .dataframe tbody tr th:only-of-type {\n",
       "        vertical-align: middle;\n",
       "    }\n",
       "\n",
       "    .dataframe tbody tr th {\n",
       "        vertical-align: top;\n",
       "    }\n",
       "\n",
       "    .dataframe thead th {\n",
       "        text-align: right;\n",
       "    }\n",
       "</style>\n",
       "<table border=\"1\" class=\"dataframe\">\n",
       "  <thead>\n",
       "    <tr style=\"text-align: right;\">\n",
       "      <th></th>\n",
       "      <th>ID</th>\n",
       "      <th>birthdate</th>\n",
       "      <th>marital_status</th>\n",
       "      <th>car_use</th>\n",
       "      <th>gender</th>\n",
       "      <th>kids_driving</th>\n",
       "      <th>parent</th>\n",
       "      <th>education</th>\n",
       "      <th>car_make</th>\n",
       "      <th>car_model</th>\n",
       "      <th>car_color</th>\n",
       "      <th>car_year</th>\n",
       "      <th>claim_freq</th>\n",
       "      <th>coverage_zone</th>\n",
       "      <th>claim_amt</th>\n",
       "      <th>household_income</th>\n",
       "      <th>birth</th>\n",
       "      <th>date</th>\n",
       "      <th>Age</th>\n",
       "    </tr>\n",
       "  </thead>\n",
       "  <tbody>\n",
       "    <tr>\n",
       "      <th>0</th>\n",
       "      <td>62-2999778</td>\n",
       "      <td>09/08/1962</td>\n",
       "      <td>Single</td>\n",
       "      <td>Private</td>\n",
       "      <td>Male</td>\n",
       "      <td>2</td>\n",
       "      <td>Yes</td>\n",
       "      <td>High School</td>\n",
       "      <td>Acura</td>\n",
       "      <td>TSX</td>\n",
       "      <td>Green</td>\n",
       "      <td>2010</td>\n",
       "      <td>1</td>\n",
       "      <td>Highly Urban</td>\n",
       "      <td>73759.88</td>\n",
       "      <td>220436.66</td>\n",
       "      <td>1962</td>\n",
       "      <td>2023</td>\n",
       "      <td>61</td>\n",
       "    </tr>\n",
       "    <tr>\n",
       "      <th>1</th>\n",
       "      <td>70-2426103</td>\n",
       "      <td>4/21/1988</td>\n",
       "      <td>Married</td>\n",
       "      <td>Private</td>\n",
       "      <td>Female</td>\n",
       "      <td>0</td>\n",
       "      <td>No</td>\n",
       "      <td>Bachelors</td>\n",
       "      <td>Corbin</td>\n",
       "      <td>Sparrow</td>\n",
       "      <td>Turquoise</td>\n",
       "      <td>2004</td>\n",
       "      <td>1</td>\n",
       "      <td>Urban</td>\n",
       "      <td>78975.41</td>\n",
       "      <td>66491.43</td>\n",
       "      <td>1988</td>\n",
       "      <td>2023</td>\n",
       "      <td>35</td>\n",
       "    </tr>\n",
       "    <tr>\n",
       "      <th>2</th>\n",
       "      <td>08-3808219</td>\n",
       "      <td>08/03/1999</td>\n",
       "      <td>Divorced</td>\n",
       "      <td>Private</td>\n",
       "      <td>Male</td>\n",
       "      <td>0</td>\n",
       "      <td>No</td>\n",
       "      <td>Bachelors</td>\n",
       "      <td>Nissan</td>\n",
       "      <td>Pathfinder</td>\n",
       "      <td>Orange</td>\n",
       "      <td>1993</td>\n",
       "      <td>0</td>\n",
       "      <td>Rural</td>\n",
       "      <td>30904.01</td>\n",
       "      <td>56122.70</td>\n",
       "      <td>1999</td>\n",
       "      <td>2023</td>\n",
       "      <td>24</td>\n",
       "    </tr>\n",
       "    <tr>\n",
       "      <th>3</th>\n",
       "      <td>38-0306843</td>\n",
       "      <td>10/05/1959</td>\n",
       "      <td>Single</td>\n",
       "      <td>Private</td>\n",
       "      <td>Female</td>\n",
       "      <td>0</td>\n",
       "      <td>No</td>\n",
       "      <td>Bachelors</td>\n",
       "      <td>Ford</td>\n",
       "      <td>Econoline E350</td>\n",
       "      <td>Pink</td>\n",
       "      <td>2000</td>\n",
       "      <td>1</td>\n",
       "      <td>Highly Urban</td>\n",
       "      <td>30257.82</td>\n",
       "      <td>175182.61</td>\n",
       "      <td>1959</td>\n",
       "      <td>2023</td>\n",
       "      <td>64</td>\n",
       "    </tr>\n",
       "    <tr>\n",
       "      <th>4</th>\n",
       "      <td>47-5163637</td>\n",
       "      <td>1/15/1992</td>\n",
       "      <td>Single</td>\n",
       "      <td>Commercial</td>\n",
       "      <td>Male</td>\n",
       "      <td>0</td>\n",
       "      <td>No</td>\n",
       "      <td>Masters</td>\n",
       "      <td>Nissan</td>\n",
       "      <td>350Z</td>\n",
       "      <td>Green</td>\n",
       "      <td>2006</td>\n",
       "      <td>3</td>\n",
       "      <td>Rural</td>\n",
       "      <td>50434.02</td>\n",
       "      <td>137110.23</td>\n",
       "      <td>1992</td>\n",
       "      <td>2023</td>\n",
       "      <td>31</td>\n",
       "    </tr>\n",
       "  </tbody>\n",
       "</table>\n",
       "</div>"
      ],
      "text/plain": [
       "           ID   birthdate marital_status     car_use  gender  kids_driving  \\\n",
       "0  62-2999778  09/08/1962         Single     Private    Male             2   \n",
       "1  70-2426103   4/21/1988        Married     Private  Female             0   \n",
       "2  08-3808219  08/03/1999       Divorced     Private    Male             0   \n",
       "3  38-0306843  10/05/1959         Single     Private  Female             0   \n",
       "4  47-5163637   1/15/1992         Single  Commercial    Male             0   \n",
       "\n",
       "  parent    education car_make       car_model  car_color  car_year  \\\n",
       "0    Yes  High School    Acura             TSX      Green      2010   \n",
       "1     No    Bachelors   Corbin         Sparrow  Turquoise      2004   \n",
       "2     No    Bachelors   Nissan      Pathfinder     Orange      1993   \n",
       "3     No    Bachelors     Ford  Econoline E350       Pink      2000   \n",
       "4     No      Masters   Nissan            350Z      Green      2006   \n",
       "\n",
       "   claim_freq coverage_zone  claim_amt  household_income  birth  date  Age  \n",
       "0           1  Highly Urban   73759.88         220436.66   1962  2023   61  \n",
       "1           1         Urban   78975.41          66491.43   1988  2023   35  \n",
       "2           0         Rural   30904.01          56122.70   1999  2023   24  \n",
       "3           1  Highly Urban   30257.82         175182.61   1959  2023   64  \n",
       "4           3         Rural   50434.02         137110.23   1992  2023   31  "
      ]
     },
     "execution_count": 9,
     "metadata": {},
     "output_type": "execute_result"
    }
   ],
   "source": [
    "#getting the age of the customers\n",
    "car['birth']= car['birth'].astype(int)\n",
    "car['Age']=car['date'] - car['birth']\n",
    "car.head()"
   ]
  },
  {
   "cell_type": "markdown",
   "id": "dcbac1fc",
   "metadata": {},
   "source": [
    "## Distribution of customers "
   ]
  },
  {
   "cell_type": "code",
   "execution_count": 10,
   "id": "2a0718cb",
   "metadata": {},
   "outputs": [
    {
     "data": {
      "text/plain": [
       "Female    18806\n",
       "Male      18736\n",
       "dtype: int64"
      ]
     },
     "execution_count": 10,
     "metadata": {},
     "output_type": "execute_result"
    }
   ],
   "source": [
    "pd.value_counts(car['gender'].values)"
   ]
  },
  {
   "cell_type": "code",
   "execution_count": 11,
   "id": "e61d0640",
   "metadata": {},
   "outputs": [
    {
     "data": {
      "text/plain": [
       "Bachelors      18701\n",
       "High School    10439\n",
       "Masters         5640\n",
       "PhD             2762\n",
       "dtype: int64"
      ]
     },
     "execution_count": 11,
     "metadata": {},
     "output_type": "execute_result"
    }
   ],
   "source": [
    "pd.value_counts(car['education'].values)"
   ]
  },
  {
   "cell_type": "code",
   "execution_count": 12,
   "id": "8bdda2ea",
   "metadata": {},
   "outputs": [
    {
     "data": {
      "text/plain": [
       "Single       15525\n",
       "Married      12570\n",
       "Divorced      6357\n",
       "Seperated     3090\n",
       "dtype: int64"
      ]
     },
     "execution_count": 12,
     "metadata": {},
     "output_type": "execute_result"
    }
   ],
   "source": [
    "pd.value_counts(car['marital_status'].values)"
   ]
  },
  {
   "cell_type": "code",
   "execution_count": 13,
   "id": "5ec64c74",
   "metadata": {},
   "outputs": [
    {
     "data": {
      "text/plain": [
       "No     20932\n",
       "Yes    16610\n",
       "dtype: int64"
      ]
     },
     "execution_count": 13,
     "metadata": {},
     "output_type": "execute_result"
    }
   ],
   "source": [
    "pd.value_counts(car['parent'].values)"
   ]
  },
  {
   "cell_type": "code",
   "execution_count": 14,
   "id": "7ccad775",
   "metadata": {},
   "outputs": [
    {
     "data": {
      "text/plain": [
       "Ford          3302\n",
       "Chevrolet     2954\n",
       "Dodge         1843\n",
       "Toyota        1809\n",
       "GMC           1751\n",
       "              ... \n",
       "MG               5\n",
       "Fillmore         5\n",
       "Rambler          5\n",
       "Hillman          3\n",
       "Fairthorpe       2\n",
       "Length: 78, dtype: int64"
      ]
     },
     "execution_count": 14,
     "metadata": {},
     "output_type": "execute_result"
    }
   ],
   "source": [
    "pd.value_counts(car['car_make'].values)"
   ]
  },
  {
   "cell_type": "code",
   "execution_count": 15,
   "id": "53e3d227",
   "metadata": {},
   "outputs": [
    {
     "data": {
      "text/plain": [
       "Turquoise     2078\n",
       "Aquamarine    2020\n",
       "Green         2016\n",
       "Pink          2011\n",
       "Blue          2002\n",
       "Khaki         1993\n",
       "Crimson       1990\n",
       "Violet        1989\n",
       "Yellow        1983\n",
       "Teal          1977\n",
       "Fuscia        1974\n",
       "Red           1961\n",
       "Maroon        1954\n",
       "Puce          1947\n",
       "Purple        1942\n",
       "Indigo        1941\n",
       "Goldenrod     1935\n",
       "Orange        1915\n",
       "Mauv          1914\n",
       "dtype: int64"
      ]
     },
     "execution_count": 15,
     "metadata": {},
     "output_type": "execute_result"
    }
   ],
   "source": [
    "pd.value_counts(car['car_color'].values)"
   ]
  },
  {
   "cell_type": "code",
   "execution_count": 16,
   "id": "ca6b7dc3",
   "metadata": {},
   "outputs": [
    {
     "data": {
      "text/plain": [
       "Private       30060\n",
       "Commercial     7482\n",
       "dtype: int64"
      ]
     },
     "execution_count": 16,
     "metadata": {},
     "output_type": "execute_result"
    }
   ],
   "source": [
    "\n",
    "pd.value_counts(car['car_use'].values)"
   ]
  },
  {
   "cell_type": "code",
   "execution_count": 17,
   "id": "a531f305",
   "metadata": {
    "scrolled": true
   },
   "outputs": [
    {
     "data": {
      "text/plain": [
       "0    27203\n",
       "1     5912\n",
       "3     1516\n",
       "2     1473\n",
       "4     1438\n",
       "dtype: int64"
      ]
     },
     "execution_count": 17,
     "metadata": {},
     "output_type": "execute_result"
    }
   ],
   "source": [
    "pd.value_counts(car['claim_freq'].values)"
   ]
  },
  {
   "cell_type": "code",
   "execution_count": 18,
   "id": "89965e71",
   "metadata": {},
   "outputs": [
    {
     "name": "stdout",
     "output_type": "stream",
     "text": [
      "Average claim amount: 50028.51409621209\n"
     ]
    }
   ],
   "source": [
    "average=car['claim_amt'].mean()\n",
    "print(\"Average claim amount:\" ,average)"
   ]
  },
  {
   "cell_type": "code",
   "execution_count": 19,
   "id": "ebf9657b",
   "metadata": {},
   "outputs": [
    {
     "name": "stdout",
     "output_type": "stream",
     "text": [
      "Average household income: 147247.4077497206\n"
     ]
    }
   ],
   "source": [
    "average=car['household_income'].mean()\n",
    "print(\"Average household income:\" ,average)"
   ]
  },
  {
   "cell_type": "markdown",
   "id": "38b14cae",
   "metadata": {},
   "source": [
    "## Exploring the claim frequencies based on different demographics"
   ]
  },
  {
   "cell_type": "code",
   "execution_count": 20,
   "id": "155bb97d",
   "metadata": {},
   "outputs": [
    {
     "name": "stdout",
     "output_type": "stream",
     "text": [
      "Average claim frequency: 0.5103084545309253\n"
     ]
    }
   ],
   "source": [
    "#what is the average claim amount?\n",
    "average=car['claim_freq'].mean()\n",
    "print(\"Average claim frequency:\" ,average)"
   ]
  },
  {
   "cell_type": "markdown",
   "id": "43297bd7",
   "metadata": {},
   "source": [
    "### Claim frequency by gender and marital status"
   ]
  },
  {
   "cell_type": "code",
   "execution_count": 21,
   "id": "b01ba19a",
   "metadata": {
    "scrolled": true
   },
   "outputs": [
    {
     "data": {
      "text/html": [
       "<div>\n",
       "<style scoped>\n",
       "    .dataframe tbody tr th:only-of-type {\n",
       "        vertical-align: middle;\n",
       "    }\n",
       "\n",
       "    .dataframe tbody tr th {\n",
       "        vertical-align: top;\n",
       "    }\n",
       "\n",
       "    .dataframe thead th {\n",
       "        text-align: right;\n",
       "    }\n",
       "</style>\n",
       "<table border=\"1\" class=\"dataframe\">\n",
       "  <thead>\n",
       "    <tr style=\"text-align: right;\">\n",
       "      <th></th>\n",
       "      <th>gender</th>\n",
       "      <th>marital_status</th>\n",
       "      <th>claim_freq</th>\n",
       "    </tr>\n",
       "  </thead>\n",
       "  <tbody>\n",
       "    <tr>\n",
       "      <th>0</th>\n",
       "      <td>Female</td>\n",
       "      <td>Divorced</td>\n",
       "      <td>0.502696</td>\n",
       "    </tr>\n",
       "    <tr>\n",
       "      <th>1</th>\n",
       "      <td>Female</td>\n",
       "      <td>Married</td>\n",
       "      <td>0.511632</td>\n",
       "    </tr>\n",
       "    <tr>\n",
       "      <th>2</th>\n",
       "      <td>Female</td>\n",
       "      <td>Seperated</td>\n",
       "      <td>0.537201</td>\n",
       "    </tr>\n",
       "    <tr>\n",
       "      <th>3</th>\n",
       "      <td>Female</td>\n",
       "      <td>Single</td>\n",
       "      <td>0.516594</td>\n",
       "    </tr>\n",
       "    <tr>\n",
       "      <th>4</th>\n",
       "      <td>Male</td>\n",
       "      <td>Divorced</td>\n",
       "      <td>0.481898</td>\n",
       "    </tr>\n",
       "    <tr>\n",
       "      <th>5</th>\n",
       "      <td>Male</td>\n",
       "      <td>Married</td>\n",
       "      <td>0.528799</td>\n",
       "    </tr>\n",
       "    <tr>\n",
       "      <th>6</th>\n",
       "      <td>Male</td>\n",
       "      <td>Seperated</td>\n",
       "      <td>0.529920</td>\n",
       "    </tr>\n",
       "    <tr>\n",
       "      <th>7</th>\n",
       "      <td>Male</td>\n",
       "      <td>Single</td>\n",
       "      <td>0.493174</td>\n",
       "    </tr>\n",
       "  </tbody>\n",
       "</table>\n",
       "</div>"
      ],
      "text/plain": [
       "   gender marital_status  claim_freq\n",
       "0  Female       Divorced    0.502696\n",
       "1  Female        Married    0.511632\n",
       "2  Female      Seperated    0.537201\n",
       "3  Female         Single    0.516594\n",
       "4    Male       Divorced    0.481898\n",
       "5    Male        Married    0.528799\n",
       "6    Male      Seperated    0.529920\n",
       "7    Male         Single    0.493174"
      ]
     },
     "execution_count": 21,
     "metadata": {},
     "output_type": "execute_result"
    }
   ],
   "source": [
    "#group by gender and marital status\n",
    "claims= car.groupby(['gender', 'marital_status'])['claim_freq'].mean().reset_index()\n",
    "claims.head(10)"
   ]
  },
  {
   "cell_type": "code",
   "execution_count": 22,
   "id": "9dd91a05",
   "metadata": {},
   "outputs": [
    {
     "data": {
      "text/plain": [
       "<Figure size 576x720 with 0 Axes>"
      ]
     },
     "metadata": {},
     "output_type": "display_data"
    },
    {
     "data": {
      "image/png": "[encoded data removed]",
      "text/plain": [
       "<Figure size 1555.2x432 with 4 Axes>"
      ]
     },
     "metadata": {
      "needs_background": "light"
     },
     "output_type": "display_data"
    }
   ],
   "source": [
    "plt.figure(figsize=(8,10))\n",
    "x= sns.FacetGrid(claims ,col='marital_status', height=6, aspect=.9)\n",
    "x.map(sns.barplot,'gender' ,'claim_freq', order=['Male','Female'])\n",
    "plt.show()\n"
   ]
  },
  {
   "cell_type": "markdown",
   "id": "d7e62f66",
   "metadata": {},
   "source": [
    "#### Women who are single, seperated, divorced have a slightly higher claim frequency than men whie only married men have a higher claim frequency that women"
   ]
  },
  {
   "cell_type": "code",
   "execution_count": 23,
   "id": "96c365f1",
   "metadata": {},
   "outputs": [
    {
     "data": {
      "text/html": [
       "<div>\n",
       "<style scoped>\n",
       "    .dataframe tbody tr th:only-of-type {\n",
       "        vertical-align: middle;\n",
       "    }\n",
       "\n",
       "    .dataframe tbody tr th {\n",
       "        vertical-align: top;\n",
       "    }\n",
       "\n",
       "    .dataframe thead th {\n",
       "        text-align: right;\n",
       "    }\n",
       "</style>\n",
       "<table border=\"1\" class=\"dataframe\">\n",
       "  <thead>\n",
       "    <tr style=\"text-align: right;\">\n",
       "      <th></th>\n",
       "      <th>parent</th>\n",
       "      <th>claim_freq</th>\n",
       "    </tr>\n",
       "  </thead>\n",
       "  <tbody>\n",
       "    <tr>\n",
       "      <th>0</th>\n",
       "      <td>No</td>\n",
       "      <td>0.510032</td>\n",
       "    </tr>\n",
       "    <tr>\n",
       "      <th>1</th>\n",
       "      <td>Yes</td>\n",
       "      <td>0.510656</td>\n",
       "    </tr>\n",
       "  </tbody>\n",
       "</table>\n",
       "</div>"
      ],
      "text/plain": [
       "  parent  claim_freq\n",
       "0     No    0.510032\n",
       "1    Yes    0.510656"
      ]
     },
     "execution_count": 23,
     "metadata": {},
     "output_type": "execute_result"
    }
   ],
   "source": [
    "# claim frequency grouped by parental status\n",
    "parent= car.groupby(['parent'])['claim_freq'].mean().reset_index()\n",
    "parent.head(10)"
   ]
  },
  {
   "cell_type": "code",
   "execution_count": 24,
   "id": "cc084b18",
   "metadata": {
    "scrolled": true
   },
   "outputs": [
    {
     "data": {
      "text/plain": [
       "Text(0.5, 1.0, 'Claim freq by Education')"
      ]
     },
     "execution_count": 24,
     "metadata": {},
     "output_type": "execute_result"
    },
    {
     "data": {
      "image/png": "[encoded data removed]",
      "text/plain": [
       "<Figure size 432x288 with 1 Axes>"
      ]
     },
     "metadata": {},
     "output_type": "display_data"
    }
   ],
   "source": [
    "#group by level of education\n",
    "edu= car.groupby(['education'])['claim_freq'].mean().reset_index()\n",
    "sns.set(style='whitegrid')\n",
    "sns.barplot(x='education', y='claim_freq', data=edu)\n",
    "plt.title('Claim freq by Education')"
   ]
  },
  {
   "cell_type": "code",
   "execution_count": 25,
   "id": "51d5edfd",
   "metadata": {},
   "outputs": [
    {
     "data": {
      "text/plain": [
       "Text(0.5, 1.0, 'Claim freq by coverage_zone')"
      ]
     },
     "execution_count": 25,
     "metadata": {},
     "output_type": "execute_result"
    },
    {
     "data": {
      "image/png": "[encoded data removed]",
      "text/plain": [
       "<Figure size 504x360 with 1 Axes>"
      ]
     },
     "metadata": {},
     "output_type": "display_data"
    }
   ],
   "source": [
    "#group claim frequencyby coverage zone\n",
    "cov= car.groupby(['coverage_zone'])['claim_freq'].mean().reset_index()\n",
    "sns.set(style='whitegrid')\n",
    "plt.figure(figsize=(7,5))\n",
    "sns.barplot(x='coverage_zone', y='claim_freq', data=cov)\n",
    "plt.title('Claim freq by coverage_zone')"
   ]
  },
  {
   "cell_type": "markdown",
   "id": "cfb924e9",
   "metadata": {},
   "source": [
    "#### Customers in the highly urban and highly rural areas have a slightly higher claim fequency than the other zones"
   ]
  },
  {
   "cell_type": "code",
   "execution_count": 58,
   "id": "810489be",
   "metadata": {},
   "outputs": [
    {
     "data": {
      "text/plain": [
       "Text(0.5, 1.0, 'Claim frequency by car maker')"
      ]
     },
     "execution_count": 58,
     "metadata": {},
     "output_type": "execute_result"
    },
    {
     "data": {
      "image/png": "[encoded data removed]",
      "text/plain": [
       "<Figure size 720x432 with 1 Axes>"
      ]
     },
     "metadata": {},
     "output_type": "display_data"
    }
   ],
   "source": [
    "#group by car maker\n",
    "risk= car.groupby(['car_make'])['claim_freq'].mean().reset_index()\n",
    "sns.set(style='whitegrid')\n",
    "plt.figure(figsize=(10,6))\n",
    "top_10=risk.nlargest(10, 'claim_freq')\n",
    "sns.barplot(x='car_make', y='claim_freq', data=top_10)\n",
    "plt.title('Claim frequency by car maker')"
   ]
  },
  {
   "cell_type": "code",
   "execution_count": 27,
   "id": "f6d82e3b",
   "metadata": {
    "scrolled": true
   },
   "outputs": [
    {
     "data": {
      "text/plain": [
       "Female    3\n",
       "Male      2\n",
       "Name: gender, dtype: int64"
      ]
     },
     "execution_count": 27,
     "metadata": {},
     "output_type": "execute_result"
    }
   ],
   "source": [
    "#filter out the Merkur car maker and look at the various demographics that uses it\n",
    "carmake= 'Merkur'\n",
    "filt= car[car['car_make']== carmake]\n",
    "gend= filt['gender'].value_counts()\n",
    "gend.head()"
   ]
  },
  {
   "cell_type": "code",
   "execution_count": 28,
   "id": "d9cc6fc2",
   "metadata": {},
   "outputs": [
    {
     "name": "stdout",
     "output_type": "stream",
     "text": [
      "Average household_income of Merkur owners: 160669.61200000002\n"
     ]
    }
   ],
   "source": [
    "carmake= 'Merkur'\n",
    "filt= car[car['car_make']== carmake]\n",
    "gend= filt['household_income'].mean()\n",
    "print(\"Average household_income of Merkur owners:\" ,gend)"
   ]
  },
  {
   "cell_type": "code",
   "execution_count": 29,
   "id": "78155914",
   "metadata": {},
   "outputs": [
    {
     "name": "stdout",
     "output_type": "stream",
     "text": [
      "Average claim amount of Merkur owners: 44354.82\n"
     ]
    }
   ],
   "source": [
    "carmake= 'Merkur'\n",
    "filt= car[car['car_make']== carmake]\n",
    "gend= filt['claim_amt'].mean()\n",
    "print(\"Average claim amount of Merkur owners:\" ,gend)"
   ]
  },
  {
   "cell_type": "code",
   "execution_count": 30,
   "id": "243c7adb",
   "metadata": {},
   "outputs": [
    {
     "data": {
      "text/plain": [
       "Bachelors    5\n",
       "Name: education, dtype: int64"
      ]
     },
     "execution_count": 30,
     "metadata": {},
     "output_type": "execute_result"
    }
   ],
   "source": [
    "carmake= 'Merkur'\n",
    "filt= car[car['car_make']== carmake]\n",
    "zon= filt['education'].value_counts()\n",
    "zon.head()"
   ]
  },
  {
   "cell_type": "markdown",
   "id": "bc3489f3",
   "metadata": {},
   "source": [
    "####  Very few customers use the  Merkur(5) and those who do all have a bachelors degree and their average houshold income is significantly higher than the average income of customers generally."
   ]
  },
  {
   "cell_type": "code",
   "execution_count": 59,
   "id": "fe143ce1",
   "metadata": {},
   "outputs": [
    {
     "data": {
      "text/plain": [
       "Text(0.5, 1.0, 'Claim frequency by car color')"
      ]
     },
     "execution_count": 59,
     "metadata": {},
     "output_type": "execute_result"
    },
    {
     "data": {
      "image/png": "[encoded data removed]",
      "text/plain": [
       "<Figure size 720x432 with 1 Axes>"
      ]
     },
     "metadata": {},
     "output_type": "display_data"
    }
   ],
   "source": [
    "col= car.groupby(['car_color'])['claim_freq'].mean().reset_index()\n",
    "sns.set(style='whitegrid')\n",
    "plt.figure(figsize=(10,6))\n",
    "top10=col.nlargest(10, 'claim_freq')\n",
    "sns.barplot(x='car_color', y='claim_freq', data=top10)\n",
    "plt.title('Claim frequency by car color')"
   ]
  },
  {
   "cell_type": "markdown",
   "id": "2e80be58",
   "metadata": {},
   "source": [
    "#### Filter out the Top 3 colors and look at what they are mostly used for; Commercial or private use"
   ]
  },
  {
   "cell_type": "code",
   "execution_count": 33,
   "id": "8b6b056e",
   "metadata": {},
   "outputs": [
    {
     "data": {
      "text/plain": [
       "Private       1558\n",
       "Commercial     383\n",
       "Name: car_use, dtype: int64"
      ]
     },
     "execution_count": 33,
     "metadata": {},
     "output_type": "execute_result"
    }
   ],
   "source": [
    " # Indigo\n",
    "carcol= 'Indigo'\n",
    "filt= car[car['car_color']== carcol]\n",
    "zon= filt['car_use'].value_counts()\n",
    "zon.head()"
   ]
  },
  {
   "cell_type": "code",
   "execution_count": 34,
   "id": "fc6c54c5",
   "metadata": {},
   "outputs": [
    {
     "data": {
      "text/plain": [
       "Private       1654\n",
       "Commercial     366\n",
       "Name: car_use, dtype: int64"
      ]
     },
     "execution_count": 34,
     "metadata": {},
     "output_type": "execute_result"
    }
   ],
   "source": [
    " # Aquamarine\n",
    "carcol= 'Aquamarine'\n",
    "filt= car[car['car_color']== carcol]\n",
    "zon= filt['car_use'].value_counts()\n",
    "zon.head()"
   ]
  },
  {
   "cell_type": "code",
   "execution_count": 35,
   "id": "c99967bc",
   "metadata": {},
   "outputs": [
    {
     "data": {
      "text/plain": [
       "Private       1539\n",
       "Commercial     403\n",
       "Name: car_use, dtype: int64"
      ]
     },
     "execution_count": 35,
     "metadata": {},
     "output_type": "execute_result"
    }
   ],
   "source": [
    "# Purple\n",
    "carcoll= 'Purple'\n",
    "fillt= car[car['car_color']== carcoll]\n",
    "zonn= fillt['car_use'].value_counts()\n",
    "zonn.head()"
   ]
  },
  {
   "cell_type": "markdown",
   "id": "d9692d2e",
   "metadata": {},
   "source": [
    "#### It appear they are mainly for private use which makes sense since they are flashy colors and would require frequent maintanance"
   ]
  },
  {
   "cell_type": "code",
   "execution_count": 61,
   "id": "78bee8af",
   "metadata": {},
   "outputs": [
    {
     "data": {
      "text/plain": [
       "Text(0.5, 1.0, 'Claim frequency by year of release')"
      ]
     },
     "execution_count": 61,
     "metadata": {},
     "output_type": "execute_result"
    },
    {
     "data": {
      "image/png": "[encoded data removed]",
      "text/plain": [
       "<Figure size 720x432 with 1 Axes>"
      ]
     },
     "metadata": {},
     "output_type": "display_data"
    }
   ],
   "source": [
    "year= car.groupby(['car_year'])['claim_freq'].mean().reset_index()\n",
    "sns.set(style='whitegrid')\n",
    "plt.figure(figsize=(10,6))\n",
    "year10=year.nlargest(20, 'claim_freq')\n",
    "sns.barplot(x='car_year', y='claim_freq', data=year10)\n",
    "plt.title('Claim frequency by year of release')"
   ]
  },
  {
   "cell_type": "code",
   "execution_count": 37,
   "id": "65e2934a",
   "metadata": {},
   "outputs": [
    {
     "data": {
      "text/plain": [
       "Chrysler    4\n",
       "Name: car_make, dtype: int64"
      ]
     },
     "execution_count": 37,
     "metadata": {},
     "output_type": "execute_result"
    }
   ],
   "source": [
    "# what car make was made in the year 1926\n",
    "time= 1926\n",
    "fill= car[car['car_year']== time]\n",
    "gend= fill['car_make'].value_counts()\n",
    "gend.head()"
   ]
  },
  {
   "cell_type": "code",
   "execution_count": 38,
   "id": "46199f81",
   "metadata": {},
   "outputs": [
    {
     "data": {
      "text/html": [
       "<div>\n",
       "<style scoped>\n",
       "    .dataframe tbody tr th:only-of-type {\n",
       "        vertical-align: middle;\n",
       "    }\n",
       "\n",
       "    .dataframe tbody tr th {\n",
       "        vertical-align: top;\n",
       "    }\n",
       "\n",
       "    .dataframe thead th {\n",
       "        text-align: right;\n",
       "    }\n",
       "</style>\n",
       "<table border=\"1\" class=\"dataframe\">\n",
       "  <thead>\n",
       "    <tr style=\"text-align: right;\">\n",
       "      <th></th>\n",
       "      <th>ID</th>\n",
       "      <th>birthdate</th>\n",
       "      <th>marital_status</th>\n",
       "      <th>car_use</th>\n",
       "      <th>gender</th>\n",
       "      <th>kids_driving</th>\n",
       "      <th>parent</th>\n",
       "      <th>education</th>\n",
       "      <th>car_make</th>\n",
       "      <th>car_model</th>\n",
       "      <th>car_color</th>\n",
       "      <th>car_year</th>\n",
       "      <th>claim_freq</th>\n",
       "      <th>coverage_zone</th>\n",
       "      <th>claim_amt</th>\n",
       "      <th>household_income</th>\n",
       "      <th>birth</th>\n",
       "      <th>date</th>\n",
       "      <th>Age</th>\n",
       "    </tr>\n",
       "  </thead>\n",
       "  <tbody>\n",
       "    <tr>\n",
       "      <th>9900</th>\n",
       "      <td>48-2454894</td>\n",
       "      <td>09/11/1993</td>\n",
       "      <td>Divorced</td>\n",
       "      <td>Private</td>\n",
       "      <td>Female</td>\n",
       "      <td>0</td>\n",
       "      <td>No</td>\n",
       "      <td>Bachelors</td>\n",
       "      <td>Chrysler</td>\n",
       "      <td>Imperial</td>\n",
       "      <td>Blue</td>\n",
       "      <td>1926</td>\n",
       "      <td>0</td>\n",
       "      <td>Highly Urban</td>\n",
       "      <td>2705.29</td>\n",
       "      <td>86874.69</td>\n",
       "      <td>1993</td>\n",
       "      <td>2023</td>\n",
       "      <td>30</td>\n",
       "    </tr>\n",
       "    <tr>\n",
       "      <th>25777</th>\n",
       "      <td>73-6028144</td>\n",
       "      <td>2/25/1978</td>\n",
       "      <td>Single</td>\n",
       "      <td>Private</td>\n",
       "      <td>Female</td>\n",
       "      <td>0</td>\n",
       "      <td>Yes</td>\n",
       "      <td>High School</td>\n",
       "      <td>Chrysler</td>\n",
       "      <td>Imperial</td>\n",
       "      <td>Mauv</td>\n",
       "      <td>1926</td>\n",
       "      <td>1</td>\n",
       "      <td>Urban</td>\n",
       "      <td>39866.65</td>\n",
       "      <td>117588.19</td>\n",
       "      <td>1978</td>\n",
       "      <td>2023</td>\n",
       "      <td>45</td>\n",
       "    </tr>\n",
       "    <tr>\n",
       "      <th>25891</th>\n",
       "      <td>27-0196445</td>\n",
       "      <td>4/25/2002</td>\n",
       "      <td>Single</td>\n",
       "      <td>Private</td>\n",
       "      <td>Male</td>\n",
       "      <td>0</td>\n",
       "      <td>No</td>\n",
       "      <td>Masters</td>\n",
       "      <td>Chrysler</td>\n",
       "      <td>Imperial</td>\n",
       "      <td>Red</td>\n",
       "      <td>1926</td>\n",
       "      <td>0</td>\n",
       "      <td>Rural</td>\n",
       "      <td>15967.83</td>\n",
       "      <td>95325.28</td>\n",
       "      <td>2002</td>\n",
       "      <td>2023</td>\n",
       "      <td>21</td>\n",
       "    </tr>\n",
       "    <tr>\n",
       "      <th>35054</th>\n",
       "      <td>73-2983198</td>\n",
       "      <td>2/18/1954</td>\n",
       "      <td>Married</td>\n",
       "      <td>Private</td>\n",
       "      <td>Female</td>\n",
       "      <td>0</td>\n",
       "      <td>No</td>\n",
       "      <td>Bachelors</td>\n",
       "      <td>Chrysler</td>\n",
       "      <td>Imperial</td>\n",
       "      <td>Yellow</td>\n",
       "      <td>1926</td>\n",
       "      <td>3</td>\n",
       "      <td>Highly Rural</td>\n",
       "      <td>51681.91</td>\n",
       "      <td>101849.48</td>\n",
       "      <td>1954</td>\n",
       "      <td>2023</td>\n",
       "      <td>69</td>\n",
       "    </tr>\n",
       "  </tbody>\n",
       "</table>\n",
       "</div>"
      ],
      "text/plain": [
       "               ID   birthdate marital_status  car_use  gender  kids_driving  \\\n",
       "9900   48-2454894  09/11/1993       Divorced  Private  Female             0   \n",
       "25777  73-6028144   2/25/1978         Single  Private  Female             0   \n",
       "25891  27-0196445   4/25/2002         Single  Private    Male             0   \n",
       "35054  73-2983198   2/18/1954        Married  Private  Female             0   \n",
       "\n",
       "      parent    education  car_make car_model car_color  car_year  claim_freq  \\\n",
       "9900      No    Bachelors  Chrysler  Imperial      Blue      1926           0   \n",
       "25777    Yes  High School  Chrysler  Imperial      Mauv      1926           1   \n",
       "25891     No      Masters  Chrysler  Imperial       Red      1926           0   \n",
       "35054     No    Bachelors  Chrysler  Imperial    Yellow      1926           3   \n",
       "\n",
       "      coverage_zone  claim_amt  household_income  birth  date  Age  \n",
       "9900   Highly Urban    2705.29          86874.69   1993  2023   30  \n",
       "25777         Urban   39866.65         117588.19   1978  2023   45  \n",
       "25891         Rural   15967.83          95325.28   2002  2023   21  \n",
       "35054  Highly Rural   51681.91         101849.48   1954  2023   69  "
      ]
     },
     "execution_count": 38,
     "metadata": {},
     "output_type": "execute_result"
    }
   ],
   "source": [
    "#Overview of customers using the chrysler\n",
    "speci= 1926\n",
    "fifi= car[car['car_year']== speci]\n",
    "fifi.head(100)"
   ]
  },
  {
   "cell_type": "code",
   "execution_count": 62,
   "id": "5bf23d99",
   "metadata": {},
   "outputs": [
    {
     "data": {
      "text/plain": [
       "Text(0.5, 1.0, 'Claim frequency by Age of customers')"
      ]
     },
     "execution_count": 62,
     "metadata": {},
     "output_type": "execute_result"
    },
    {
     "data": {
      "image/png": "[encoded data removed]",
      "text/plain": [
       "<Figure size 864x576 with 1 Axes>"
      ]
     },
     "metadata": {},
     "output_type": "display_data"
    }
   ],
   "source": [
    "aj= car.groupby(['Age'])['claim_freq'].mean().reset_index()\n",
    "sns.set(style='whitegrid')\n",
    "plt.figure(figsize=(12,8))\n",
    "sns.barplot(x='Age', y='claim_freq', data=aj)\n",
    "plt.title('Claim frequency by Age of customers')"
   ]
  },
  {
   "cell_type": "markdown",
   "id": "ca1f2790",
   "metadata": {},
   "source": [
    "### Exploring the Claim Amounts based on different demographics"
   ]
  },
  {
   "cell_type": "code",
   "execution_count": 40,
   "id": "95ed3a9d",
   "metadata": {},
   "outputs": [
    {
     "name": "stdout",
     "output_type": "stream",
     "text": [
      "Average amount: 50028.51409621209\n"
     ]
    }
   ],
   "source": [
    "#what is the average claim amount?\n",
    "average=car['claim_amt'].mean()\n",
    "print(\"Average amount:\" ,average)\n"
   ]
  },
  {
   "cell_type": "code",
   "execution_count": 41,
   "id": "7738aa81",
   "metadata": {
    "scrolled": true
   },
   "outputs": [
    {
     "data": {
      "text/plain": [
       "<Figure size 576x720 with 0 Axes>"
      ]
     },
     "metadata": {},
     "output_type": "display_data"
    },
    {
     "data": {
      "image/png": "[encoded data removed]",
      "text/plain": [
       "<Figure size 1555.2x432 with 4 Axes>"
      ]
     },
     "metadata": {},
     "output_type": "display_data"
    }
   ],
   "source": [
    "#The claim amounts based on gender and marital status\n",
    "amts= car.groupby(['gender', 'marital_status'])['claim_amt'].mean().reset_index()\n",
    "plt.figure(figsize=(8,10))\n",
    "x= sns.FacetGrid(amts ,col='marital_status', height=6, aspect=.9)\n",
    "x.map(sns.barplot,'gender' ,'claim_amt', order=['Male','Female'])\n",
    "plt.show()"
   ]
  },
  {
   "cell_type": "markdown",
   "id": "4bb4d6ce",
   "metadata": {},
   "source": [
    "#### The claim amount of males who are divorced and single are slightly higher than females whiile the rest are basically the same"
   ]
  },
  {
   "cell_type": "code",
   "execution_count": 42,
   "id": "646a0a21",
   "metadata": {},
   "outputs": [
    {
     "data": {
      "text/plain": [
       "Text(0.5, 1.0, 'claim amount by Education')"
      ]
     },
     "execution_count": 42,
     "metadata": {},
     "output_type": "execute_result"
    },
    {
     "data": {
      "image/png": "[encoded data removed]",
      "text/plain": [
       "<Figure size 720x432 with 1 Axes>"
      ]
     },
     "metadata": {},
     "output_type": "display_data"
    }
   ],
   "source": [
    "#group claim amount by education\n",
    "educa= car.groupby(['education' ])['claim_amt'].mean().reset_index()\n",
    "sort= educa.groupby('education')['claim_amt'].mean().sort_values(ascending=False).index\n",
    "sns.set(style='whitegrid')\n",
    "plt.figure(figsize=(10,6))\n",
    "sns.barplot(x='education', y='claim_amt', data=educa, order=sort)\n",
    "plt.title('claim amount by Education')"
   ]
  },
  {
   "cell_type": "code",
   "execution_count": 43,
   "id": "d8471117",
   "metadata": {
    "scrolled": true
   },
   "outputs": [
    {
     "name": "stderr",
     "output_type": "stream",
     "text": [
      "C:\\Users\\yinks\\AppData\\Local\\Temp/ipykernel_10660/2047343641.py:1: FutureWarning: Indexing with multiple keys (implicitly converted to a tuple of keys) will be deprecated, use a list instead.\n",
      "  reason= car.groupby(['car_use' ])['claim_freq', 'claim_amt'].mean().reset_index()\n"
     ]
    },
    {
     "data": {
      "text/html": [
       "<div>\n",
       "<style scoped>\n",
       "    .dataframe tbody tr th:only-of-type {\n",
       "        vertical-align: middle;\n",
       "    }\n",
       "\n",
       "    .dataframe tbody tr th {\n",
       "        vertical-align: top;\n",
       "    }\n",
       "\n",
       "    .dataframe thead th {\n",
       "        text-align: right;\n",
       "    }\n",
       "</style>\n",
       "<table border=\"1\" class=\"dataframe\">\n",
       "  <thead>\n",
       "    <tr style=\"text-align: right;\">\n",
       "      <th></th>\n",
       "      <th>car_use</th>\n",
       "      <th>claim_freq</th>\n",
       "      <th>claim_amt</th>\n",
       "    </tr>\n",
       "  </thead>\n",
       "  <tbody>\n",
       "    <tr>\n",
       "      <th>0</th>\n",
       "      <td>Commercial</td>\n",
       "      <td>0.498663</td>\n",
       "      <td>50005.247874</td>\n",
       "    </tr>\n",
       "    <tr>\n",
       "      <th>1</th>\n",
       "      <td>Private</td>\n",
       "      <td>0.513207</td>\n",
       "      <td>50034.305110</td>\n",
       "    </tr>\n",
       "  </tbody>\n",
       "</table>\n",
       "</div>"
      ],
      "text/plain": [
       "      car_use  claim_freq     claim_amt\n",
       "0  Commercial    0.498663  50005.247874\n",
       "1     Private    0.513207  50034.305110"
      ]
     },
     "execution_count": 43,
     "metadata": {},
     "output_type": "execute_result"
    }
   ],
   "source": [
    "# group by \n",
    "reason= car.groupby(['car_use' ])['claim_freq', 'claim_amt'].mean().reset_index()\n",
    "reason.head(10)"
   ]
  },
  {
   "cell_type": "code",
   "execution_count": 44,
   "id": "bc811019",
   "metadata": {},
   "outputs": [
    {
     "data": {
      "text/html": [
       "<div>\n",
       "<style scoped>\n",
       "    .dataframe tbody tr th:only-of-type {\n",
       "        vertical-align: middle;\n",
       "    }\n",
       "\n",
       "    .dataframe tbody tr th {\n",
       "        vertical-align: top;\n",
       "    }\n",
       "\n",
       "    .dataframe thead th {\n",
       "        text-align: right;\n",
       "    }\n",
       "</style>\n",
       "<table border=\"1\" class=\"dataframe\">\n",
       "  <thead>\n",
       "    <tr style=\"text-align: right;\">\n",
       "      <th></th>\n",
       "      <th>parent</th>\n",
       "      <th>claim_amt</th>\n",
       "    </tr>\n",
       "  </thead>\n",
       "  <tbody>\n",
       "    <tr>\n",
       "      <th>0</th>\n",
       "      <td>No</td>\n",
       "      <td>50084.902634</td>\n",
       "    </tr>\n",
       "    <tr>\n",
       "      <th>1</th>\n",
       "      <td>Yes</td>\n",
       "      <td>49957.452996</td>\n",
       "    </tr>\n",
       "  </tbody>\n",
       "</table>\n",
       "</div>"
      ],
      "text/plain": [
       "  parent     claim_amt\n",
       "0     No  50084.902634\n",
       "1    Yes  49957.452996"
      ]
     },
     "execution_count": 44,
     "metadata": {},
     "output_type": "execute_result"
    }
   ],
   "source": [
    "#group by parental status\n",
    "parents= car.groupby(['parent'])['claim_amt'].mean().reset_index()\n",
    "parents.head()"
   ]
  },
  {
   "cell_type": "code",
   "execution_count": 64,
   "id": "b43a62d0",
   "metadata": {},
   "outputs": [
    {
     "data": {
      "text/plain": [
       "Text(0.5, 1.0, 'Claim amount by coverage_zone')"
      ]
     },
     "execution_count": 64,
     "metadata": {},
     "output_type": "execute_result"
    },
    {
     "data": {
      "image/png": "[encoded data removed]",
      "text/plain": [
       "<Figure size 720x432 with 1 Axes>"
      ]
     },
     "metadata": {},
     "output_type": "display_data"
    }
   ],
   "source": [
    "#group claim amount by coverage zone\n",
    "covv= car.groupby(['coverage_zone'])['claim_amt'].mean().reset_index()\n",
    "sortt= covv.groupby('coverage_zone')['claim_amt'].mean().sort_values(ascending=False).index\n",
    "sns.set(style='whitegrid')\n",
    "plt.figure(figsize=(10,6))\n",
    "sns.barplot(x='coverage_zone', y='claim_amt', data=covv, order= sortt)\n",
    "plt.title('Claim amount by coverage_zone')"
   ]
  },
  {
   "cell_type": "code",
   "execution_count": 65,
   "id": "ffc82c70",
   "metadata": {},
   "outputs": [
    {
     "data": {
      "text/plain": [
       "Text(0.5, 1.0, 'Claim amount by car maker')"
      ]
     },
     "execution_count": 65,
     "metadata": {},
     "output_type": "execute_result"
    },
    {
     "data": {
      "image/png": "[encoded data removed]",
      "text/plain": [
       "<Figure size 720x432 with 1 Axes>"
      ]
     },
     "metadata": {},
     "output_type": "display_data"
    }
   ],
   "source": [
    "#group by car make\n",
    "riskk= car.groupby(['car_make'])['claim_amt'].mean().reset_index()\n",
    "sns.set(style='whitegrid')\n",
    "plt.figure(figsize=(10,6))\n",
    "top_1=riskk.nlargest(10, 'claim_amt')\n",
    "sns.barplot(x='car_make', y='claim_amt', data=top_1)\n",
    "plt.title('Claim amount by car maker')"
   ]
  },
  {
   "cell_type": "markdown",
   "id": "14548d8a",
   "metadata": {},
   "source": [
    "#### Filter out the Top car maker with the highest claim amount that customers use"
   ]
  },
  {
   "cell_type": "code",
   "execution_count": 47,
   "id": "1fcd5877",
   "metadata": {},
   "outputs": [
    {
     "name": "stdout",
     "output_type": "stream",
     "text": [
      "Average household_income of Hillman owners: 171067.77333333332\n"
     ]
    }
   ],
   "source": [
    "carmake= 'Hillman'\n",
    "aim= car[car['car_make']== carmake]\n",
    "caim= aim['household_income'].mean()\n",
    "print(\"Average household_income of Hillman owners:\" ,caim)"
   ]
  },
  {
   "cell_type": "code",
   "execution_count": 48,
   "id": "9b0ececb",
   "metadata": {},
   "outputs": [
    {
     "name": "stdout",
     "output_type": "stream",
     "text": [
      "Average claim_freq of Hillman owners: 0.0\n"
     ]
    }
   ],
   "source": [
    "carmake= 'Hillman'\n",
    "aim= car[car['car_make']== carmake]\n",
    "caim= aim['claim_freq'].mean()\n",
    "print(\"Average claim_freq of Hillman owners:\" ,caim)"
   ]
  },
  {
   "cell_type": "markdown",
   "id": "b8612552",
   "metadata": {},
   "source": [
    "#### The average income of 'Hillman' users is signficantly higher than the average income of customers generally and they have an average  claim frequency of 0.0 which means they have never claimed their insurance"
   ]
  },
  {
   "cell_type": "code",
   "execution_count": 49,
   "id": "55ce6282",
   "metadata": {},
   "outputs": [
    {
     "data": {
      "text/html": [
       "<div>\n",
       "<style scoped>\n",
       "    .dataframe tbody tr th:only-of-type {\n",
       "        vertical-align: middle;\n",
       "    }\n",
       "\n",
       "    .dataframe tbody tr th {\n",
       "        vertical-align: top;\n",
       "    }\n",
       "\n",
       "    .dataframe thead th {\n",
       "        text-align: right;\n",
       "    }\n",
       "</style>\n",
       "<table border=\"1\" class=\"dataframe\">\n",
       "  <thead>\n",
       "    <tr style=\"text-align: right;\">\n",
       "      <th></th>\n",
       "      <th>ID</th>\n",
       "      <th>birthdate</th>\n",
       "      <th>marital_status</th>\n",
       "      <th>car_use</th>\n",
       "      <th>gender</th>\n",
       "      <th>kids_driving</th>\n",
       "      <th>parent</th>\n",
       "      <th>education</th>\n",
       "      <th>car_make</th>\n",
       "      <th>car_model</th>\n",
       "      <th>car_color</th>\n",
       "      <th>car_year</th>\n",
       "      <th>claim_freq</th>\n",
       "      <th>coverage_zone</th>\n",
       "      <th>claim_amt</th>\n",
       "      <th>household_income</th>\n",
       "      <th>birth</th>\n",
       "      <th>date</th>\n",
       "      <th>Age</th>\n",
       "    </tr>\n",
       "  </thead>\n",
       "  <tbody>\n",
       "    <tr>\n",
       "      <th>10382</th>\n",
       "      <td>87-5865221</td>\n",
       "      <td>5/20/1993</td>\n",
       "      <td>Seperated</td>\n",
       "      <td>Commercial</td>\n",
       "      <td>Female</td>\n",
       "      <td>0</td>\n",
       "      <td>No</td>\n",
       "      <td>High School</td>\n",
       "      <td>Hillman</td>\n",
       "      <td>Minx Magnificent</td>\n",
       "      <td>Yellow</td>\n",
       "      <td>1950</td>\n",
       "      <td>0</td>\n",
       "      <td>Rural</td>\n",
       "      <td>68352.98</td>\n",
       "      <td>185192.20</td>\n",
       "      <td>1993</td>\n",
       "      <td>2023</td>\n",
       "      <td>30</td>\n",
       "    </tr>\n",
       "    <tr>\n",
       "      <th>23498</th>\n",
       "      <td>71-0538334</td>\n",
       "      <td>01/02/1955</td>\n",
       "      <td>Single</td>\n",
       "      <td>Commercial</td>\n",
       "      <td>Female</td>\n",
       "      <td>0</td>\n",
       "      <td>No</td>\n",
       "      <td>Bachelors</td>\n",
       "      <td>Hillman</td>\n",
       "      <td>Minx Magnificent</td>\n",
       "      <td>Pink</td>\n",
       "      <td>1950</td>\n",
       "      <td>0</td>\n",
       "      <td>Suburban</td>\n",
       "      <td>74486.57</td>\n",
       "      <td>223934.28</td>\n",
       "      <td>1955</td>\n",
       "      <td>2023</td>\n",
       "      <td>68</td>\n",
       "    </tr>\n",
       "    <tr>\n",
       "      <th>37148</th>\n",
       "      <td>96-0595357</td>\n",
       "      <td>1/26/1982</td>\n",
       "      <td>Single</td>\n",
       "      <td>Commercial</td>\n",
       "      <td>Female</td>\n",
       "      <td>1</td>\n",
       "      <td>Yes</td>\n",
       "      <td>Bachelors</td>\n",
       "      <td>Hillman</td>\n",
       "      <td>Minx Magnificent</td>\n",
       "      <td>Khaki</td>\n",
       "      <td>1950</td>\n",
       "      <td>0</td>\n",
       "      <td>Suburban</td>\n",
       "      <td>94308.73</td>\n",
       "      <td>104076.84</td>\n",
       "      <td>1982</td>\n",
       "      <td>2023</td>\n",
       "      <td>41</td>\n",
       "    </tr>\n",
       "  </tbody>\n",
       "</table>\n",
       "</div>"
      ],
      "text/plain": [
       "               ID   birthdate marital_status     car_use  gender  \\\n",
       "10382  87-5865221   5/20/1993      Seperated  Commercial  Female   \n",
       "23498  71-0538334  01/02/1955         Single  Commercial  Female   \n",
       "37148  96-0595357   1/26/1982         Single  Commercial  Female   \n",
       "\n",
       "       kids_driving parent    education car_make         car_model car_color  \\\n",
       "10382             0     No  High School  Hillman  Minx Magnificent    Yellow   \n",
       "23498             0     No    Bachelors  Hillman  Minx Magnificent      Pink   \n",
       "37148             1    Yes    Bachelors  Hillman  Minx Magnificent     Khaki   \n",
       "\n",
       "       car_year  claim_freq coverage_zone  claim_amt  household_income  birth  \\\n",
       "10382      1950           0         Rural   68352.98         185192.20   1993   \n",
       "23498      1950           0      Suburban   74486.57         223934.28   1955   \n",
       "37148      1950           0      Suburban   94308.73         104076.84   1982   \n",
       "\n",
       "       date  Age  \n",
       "10382  2023   30  \n",
       "23498  2023   68  \n",
       "37148  2023   41  "
      ]
     },
     "execution_count": 49,
     "metadata": {},
     "output_type": "execute_result"
    }
   ],
   "source": [
    "#Overview of customers using the Hillman\n",
    "speci= 'Hillman'\n",
    "fifi= car[car['car_make']== speci]\n",
    "fifi.head(100)"
   ]
  },
  {
   "cell_type": "code",
   "execution_count": 50,
   "id": "7d84d2d0",
   "metadata": {},
   "outputs": [
    {
     "data": {
      "text/plain": [
       "<AxesSubplot:xlabel='car_color', ylabel='claim_amt'>"
      ]
     },
     "execution_count": 50,
     "metadata": {},
     "output_type": "execute_result"
    },
    {
     "data": {
      "image/png": "[encoded data removed]",
      "text/plain": [
       "<Figure size 720x432 with 1 Axes>"
      ]
     },
     "metadata": {},
     "output_type": "display_data"
    }
   ],
   "source": [
    "coll= car.groupby(['car_color'])['claim_amt'].mean().reset_index()\n",
    "sns.set(style='whitegrid')\n",
    "plt.figure(figsize=(10,6))\n",
    "topp=coll.nlargest(10, 'claim_amt')\n",
    "sns.barplot(x='car_color', y='claim_amt', data=topp)"
   ]
  },
  {
   "cell_type": "code",
   "execution_count": 51,
   "id": "f2a085a2",
   "metadata": {},
   "outputs": [
    {
     "data": {
      "text/plain": [
       "<AxesSubplot:xlabel='Age', ylabel='claim_amt'>"
      ]
     },
     "execution_count": 51,
     "metadata": {},
     "output_type": "execute_result"
    },
    {
     "data": {
      "image/png": "[encoded data removed]",
      "text/plain": [
       "<Figure size 864x576 with 1 Axes>"
      ]
     },
     "metadata": {},
     "output_type": "display_data"
    }
   ],
   "source": [
    "ag= car.groupby(['Age'])['claim_amt'].mean().reset_index()\n",
    "sns.set(style='whitegrid')\n",
    "plt.figure(figsize=(12,8))\n",
    "sns.barplot(x='Age', y='claim_amt', data=ag)"
   ]
  },
  {
   "cell_type": "markdown",
   "id": "cdc2fd8a",
   "metadata": {},
   "source": [
    "### Lets take a look at household income by car maker and what customers with highest income use the cars for"
   ]
  },
  {
   "cell_type": "code",
   "execution_count": 52,
   "id": "a8a5f307",
   "metadata": {},
   "outputs": [
    {
     "data": {
      "text/plain": [
       "<AxesSubplot:xlabel='car_make', ylabel='household_income'>"
      ]
     },
     "execution_count": 52,
     "metadata": {},
     "output_type": "execute_result"
    },
    {
     "data": {
      "image/png": "[encoded data removed]",
      "text/plain": [
       "<Figure size 720x504 with 1 Axes>"
      ]
     },
     "metadata": {},
     "output_type": "display_data"
    }
   ],
   "source": [
    "hold= car.groupby(['car_make'])['household_income'].mean().reset_index()\n",
    "sns.set(style='whitegrid')\n",
    "plt.figure(figsize=(10,7))\n",
    "top_1=hold.nlargest(10, 'household_income')\n",
    "sns.barplot(x='car_make', y='household_income', data=top_1)"
   ]
  },
  {
   "cell_type": "code",
   "execution_count": 53,
   "id": "5fdf935a",
   "metadata": {},
   "outputs": [
    {
     "data": {
      "text/plain": [
       "Private       8\n",
       "Commercial    2\n",
       "Name: car_use, dtype: int64"
      ]
     },
     "execution_count": 53,
     "metadata": {},
     "output_type": "execute_result"
    }
   ],
   "source": [
    "#Top 3 car makers by household income\n",
    "hol= 'McLaren'\n",
    "filtt= car[car['car_make']== hol]\n",
    "zone= filtt['car_use'].value_counts()\n",
    "zone.head()"
   ]
  },
  {
   "cell_type": "code",
   "execution_count": 54,
   "id": "8c02dc53",
   "metadata": {},
   "outputs": [
    {
     "data": {
      "text/plain": [
       "Private    5\n",
       "Name: car_use, dtype: int64"
      ]
     },
     "execution_count": 54,
     "metadata": {},
     "output_type": "execute_result"
    }
   ],
   "source": [
    "hol= 'Fillmore'\n",
    "fitt= car[car['car_make']== hol]\n",
    "zo= fitt['car_use'].value_counts()\n",
    "zo.head()"
   ]
  },
  {
   "cell_type": "code",
   "execution_count": 55,
   "id": "e7254608",
   "metadata": {},
   "outputs": [
    {
     "data": {
      "text/plain": [
       "Private    9\n",
       "Name: car_use, dtype: int64"
      ]
     },
     "execution_count": 55,
     "metadata": {},
     "output_type": "execute_result"
    }
   ],
   "source": [
    "shel= 'Shelby'\n",
    "ft= car[car['car_make']== shel]\n",
    "bi= ft['car_use'].value_counts()\n",
    "bi.head()"
   ]
  },
  {
   "cell_type": "markdown",
   "id": "59ae852f",
   "metadata": {},
   "source": [
    "#### It appears its mostly for private use which makes sense since commercial cars wont be abble to maintain flash and expensive colors"
   ]
  },
  {
   "cell_type": "code",
   "execution_count": 56,
   "id": "b536f444",
   "metadata": {},
   "outputs": [
    {
     "data": {
      "text/html": [
       "<div>\n",
       "<style scoped>\n",
       "    .dataframe tbody tr th:only-of-type {\n",
       "        vertical-align: middle;\n",
       "    }\n",
       "\n",
       "    .dataframe tbody tr th {\n",
       "        vertical-align: top;\n",
       "    }\n",
       "\n",
       "    .dataframe thead th {\n",
       "        text-align: right;\n",
       "    }\n",
       "</style>\n",
       "<table border=\"1\" class=\"dataframe\">\n",
       "  <thead>\n",
       "    <tr style=\"text-align: right;\">\n",
       "      <th></th>\n",
       "      <th>ID</th>\n",
       "      <th>birthdate</th>\n",
       "      <th>marital_status</th>\n",
       "      <th>car_use</th>\n",
       "      <th>gender</th>\n",
       "      <th>kids_driving</th>\n",
       "      <th>parent</th>\n",
       "      <th>education</th>\n",
       "      <th>car_make</th>\n",
       "      <th>car_model</th>\n",
       "      <th>car_color</th>\n",
       "      <th>car_year</th>\n",
       "      <th>claim_freq</th>\n",
       "      <th>coverage_zone</th>\n",
       "      <th>claim_amt</th>\n",
       "      <th>household_income</th>\n",
       "      <th>birth</th>\n",
       "      <th>date</th>\n",
       "      <th>Age</th>\n",
       "    </tr>\n",
       "  </thead>\n",
       "  <tbody>\n",
       "    <tr>\n",
       "      <th>1445</th>\n",
       "      <td>98-5272203</td>\n",
       "      <td>05/07/1962</td>\n",
       "      <td>Single</td>\n",
       "      <td>Commercial</td>\n",
       "      <td>Male</td>\n",
       "      <td>0</td>\n",
       "      <td>No</td>\n",
       "      <td>High School</td>\n",
       "      <td>McLaren</td>\n",
       "      <td>MP4-12C</td>\n",
       "      <td>Green</td>\n",
       "      <td>2012</td>\n",
       "      <td>0</td>\n",
       "      <td>Rural</td>\n",
       "      <td>58072.27</td>\n",
       "      <td>173545.54</td>\n",
       "      <td>1962</td>\n",
       "      <td>2023</td>\n",
       "      <td>61</td>\n",
       "    </tr>\n",
       "    <tr>\n",
       "      <th>2231</th>\n",
       "      <td>37-1304406</td>\n",
       "      <td>11/20/1949</td>\n",
       "      <td>Married</td>\n",
       "      <td>Commercial</td>\n",
       "      <td>Female</td>\n",
       "      <td>0</td>\n",
       "      <td>No</td>\n",
       "      <td>High School</td>\n",
       "      <td>McLaren</td>\n",
       "      <td>MP4-12C</td>\n",
       "      <td>Green</td>\n",
       "      <td>2012</td>\n",
       "      <td>1</td>\n",
       "      <td>Highly Urban</td>\n",
       "      <td>26650.70</td>\n",
       "      <td>198898.49</td>\n",
       "      <td>1949</td>\n",
       "      <td>2023</td>\n",
       "      <td>74</td>\n",
       "    </tr>\n",
       "    <tr>\n",
       "      <th>3308</th>\n",
       "      <td>92-3090214</td>\n",
       "      <td>07/11/1962</td>\n",
       "      <td>Seperated</td>\n",
       "      <td>Private</td>\n",
       "      <td>Female</td>\n",
       "      <td>0</td>\n",
       "      <td>No</td>\n",
       "      <td>Bachelors</td>\n",
       "      <td>McLaren</td>\n",
       "      <td>MP4-12C</td>\n",
       "      <td>Violet</td>\n",
       "      <td>2012</td>\n",
       "      <td>0</td>\n",
       "      <td>Suburban</td>\n",
       "      <td>79724.31</td>\n",
       "      <td>218371.69</td>\n",
       "      <td>1962</td>\n",
       "      <td>2023</td>\n",
       "      <td>61</td>\n",
       "    </tr>\n",
       "    <tr>\n",
       "      <th>5518</th>\n",
       "      <td>54-9454531</td>\n",
       "      <td>12/27/1962</td>\n",
       "      <td>Single</td>\n",
       "      <td>Private</td>\n",
       "      <td>Female</td>\n",
       "      <td>0</td>\n",
       "      <td>Yes</td>\n",
       "      <td>Masters</td>\n",
       "      <td>McLaren</td>\n",
       "      <td>MP4-12C</td>\n",
       "      <td>Yellow</td>\n",
       "      <td>2012</td>\n",
       "      <td>0</td>\n",
       "      <td>Highly Rural</td>\n",
       "      <td>31980.03</td>\n",
       "      <td>114941.26</td>\n",
       "      <td>1962</td>\n",
       "      <td>2023</td>\n",
       "      <td>61</td>\n",
       "    </tr>\n",
       "    <tr>\n",
       "      <th>8199</th>\n",
       "      <td>33-3002863</td>\n",
       "      <td>9/20/1955</td>\n",
       "      <td>Married</td>\n",
       "      <td>Private</td>\n",
       "      <td>Female</td>\n",
       "      <td>0</td>\n",
       "      <td>No</td>\n",
       "      <td>High School</td>\n",
       "      <td>McLaren</td>\n",
       "      <td>MP4-12C</td>\n",
       "      <td>Mauv</td>\n",
       "      <td>2012</td>\n",
       "      <td>0</td>\n",
       "      <td>Rural</td>\n",
       "      <td>28614.36</td>\n",
       "      <td>204034.70</td>\n",
       "      <td>1955</td>\n",
       "      <td>2023</td>\n",
       "      <td>68</td>\n",
       "    </tr>\n",
       "    <tr>\n",
       "      <th>10811</th>\n",
       "      <td>57-3830063</td>\n",
       "      <td>04/06/1958</td>\n",
       "      <td>Married</td>\n",
       "      <td>Private</td>\n",
       "      <td>Male</td>\n",
       "      <td>0</td>\n",
       "      <td>No</td>\n",
       "      <td>Bachelors</td>\n",
       "      <td>McLaren</td>\n",
       "      <td>MP4-12C</td>\n",
       "      <td>Yellow</td>\n",
       "      <td>2012</td>\n",
       "      <td>1</td>\n",
       "      <td>Suburban</td>\n",
       "      <td>56475.40</td>\n",
       "      <td>214782.39</td>\n",
       "      <td>1958</td>\n",
       "      <td>2023</td>\n",
       "      <td>65</td>\n",
       "    </tr>\n",
       "    <tr>\n",
       "      <th>13510</th>\n",
       "      <td>92-5534398</td>\n",
       "      <td>06/08/1966</td>\n",
       "      <td>Single</td>\n",
       "      <td>Private</td>\n",
       "      <td>Female</td>\n",
       "      <td>0</td>\n",
       "      <td>No</td>\n",
       "      <td>PhD</td>\n",
       "      <td>McLaren</td>\n",
       "      <td>MP4-12C</td>\n",
       "      <td>Yellow</td>\n",
       "      <td>2012</td>\n",
       "      <td>0</td>\n",
       "      <td>Highly Rural</td>\n",
       "      <td>77050.86</td>\n",
       "      <td>201324.49</td>\n",
       "      <td>1966</td>\n",
       "      <td>2023</td>\n",
       "      <td>57</td>\n",
       "    </tr>\n",
       "    <tr>\n",
       "      <th>14827</th>\n",
       "      <td>78-2782915</td>\n",
       "      <td>04/08/1963</td>\n",
       "      <td>Single</td>\n",
       "      <td>Private</td>\n",
       "      <td>Male</td>\n",
       "      <td>0</td>\n",
       "      <td>No</td>\n",
       "      <td>Masters</td>\n",
       "      <td>McLaren</td>\n",
       "      <td>MP4-12C</td>\n",
       "      <td>Mauv</td>\n",
       "      <td>2012</td>\n",
       "      <td>0</td>\n",
       "      <td>Highly Urban</td>\n",
       "      <td>8271.06</td>\n",
       "      <td>217919.16</td>\n",
       "      <td>1963</td>\n",
       "      <td>2023</td>\n",
       "      <td>60</td>\n",
       "    </tr>\n",
       "    <tr>\n",
       "      <th>16149</th>\n",
       "      <td>87-7671851</td>\n",
       "      <td>12/23/1979</td>\n",
       "      <td>Single</td>\n",
       "      <td>Private</td>\n",
       "      <td>Male</td>\n",
       "      <td>0</td>\n",
       "      <td>No</td>\n",
       "      <td>PhD</td>\n",
       "      <td>McLaren</td>\n",
       "      <td>MP4-12C</td>\n",
       "      <td>Orange</td>\n",
       "      <td>2012</td>\n",
       "      <td>0</td>\n",
       "      <td>Suburban</td>\n",
       "      <td>35037.28</td>\n",
       "      <td>60349.87</td>\n",
       "      <td>1979</td>\n",
       "      <td>2023</td>\n",
       "      <td>44</td>\n",
       "    </tr>\n",
       "    <tr>\n",
       "      <th>21884</th>\n",
       "      <td>35-3632519</td>\n",
       "      <td>7/24/1954</td>\n",
       "      <td>Seperated</td>\n",
       "      <td>Private</td>\n",
       "      <td>Female</td>\n",
       "      <td>0</td>\n",
       "      <td>No</td>\n",
       "      <td>Bachelors</td>\n",
       "      <td>McLaren</td>\n",
       "      <td>MP4-12C</td>\n",
       "      <td>Mauv</td>\n",
       "      <td>2012</td>\n",
       "      <td>0</td>\n",
       "      <td>Highly Rural</td>\n",
       "      <td>34331.10</td>\n",
       "      <td>230381.53</td>\n",
       "      <td>1954</td>\n",
       "      <td>2023</td>\n",
       "      <td>69</td>\n",
       "    </tr>\n",
       "  </tbody>\n",
       "</table>\n",
       "</div>"
      ],
      "text/plain": [
       "               ID   birthdate marital_status     car_use  gender  \\\n",
       "1445   98-5272203  05/07/1962         Single  Commercial    Male   \n",
       "2231   37-1304406  11/20/1949        Married  Commercial  Female   \n",
       "3308   92-3090214  07/11/1962      Seperated     Private  Female   \n",
       "5518   54-9454531  12/27/1962         Single     Private  Female   \n",
       "8199   33-3002863   9/20/1955        Married     Private  Female   \n",
       "10811  57-3830063  04/06/1958        Married     Private    Male   \n",
       "13510  92-5534398  06/08/1966         Single     Private  Female   \n",
       "14827  78-2782915  04/08/1963         Single     Private    Male   \n",
       "16149  87-7671851  12/23/1979         Single     Private    Male   \n",
       "21884  35-3632519   7/24/1954      Seperated     Private  Female   \n",
       "\n",
       "       kids_driving parent    education car_make car_model car_color  \\\n",
       "1445              0     No  High School  McLaren   MP4-12C     Green   \n",
       "2231              0     No  High School  McLaren   MP4-12C     Green   \n",
       "3308              0     No    Bachelors  McLaren   MP4-12C    Violet   \n",
       "5518              0    Yes      Masters  McLaren   MP4-12C    Yellow   \n",
       "8199              0     No  High School  McLaren   MP4-12C      Mauv   \n",
       "10811             0     No    Bachelors  McLaren   MP4-12C    Yellow   \n",
       "13510             0     No          PhD  McLaren   MP4-12C    Yellow   \n",
       "14827             0     No      Masters  McLaren   MP4-12C      Mauv   \n",
       "16149             0     No          PhD  McLaren   MP4-12C    Orange   \n",
       "21884             0     No    Bachelors  McLaren   MP4-12C      Mauv   \n",
       "\n",
       "       car_year  claim_freq coverage_zone  claim_amt  household_income  birth  \\\n",
       "1445       2012           0         Rural   58072.27         173545.54   1962   \n",
       "2231       2012           1  Highly Urban   26650.70         198898.49   1949   \n",
       "3308       2012           0      Suburban   79724.31         218371.69   1962   \n",
       "5518       2012           0  Highly Rural   31980.03         114941.26   1962   \n",
       "8199       2012           0         Rural   28614.36         204034.70   1955   \n",
       "10811      2012           1      Suburban   56475.40         214782.39   1958   \n",
       "13510      2012           0  Highly Rural   77050.86         201324.49   1966   \n",
       "14827      2012           0  Highly Urban    8271.06         217919.16   1963   \n",
       "16149      2012           0      Suburban   35037.28          60349.87   1979   \n",
       "21884      2012           0  Highly Rural   34331.10         230381.53   1954   \n",
       "\n",
       "       date  Age  \n",
       "1445   2023   61  \n",
       "2231   2023   74  \n",
       "3308   2023   61  \n",
       "5518   2023   61  \n",
       "8199   2023   68  \n",
       "10811  2023   65  \n",
       "13510  2023   57  \n",
       "14827  2023   60  \n",
       "16149  2023   44  \n",
       "21884  2023   69  "
      ]
     },
     "execution_count": 56,
     "metadata": {},
     "output_type": "execute_result"
    }
   ],
   "source": [
    "#Overview of customers using the McLaren\n",
    "speci= 'McLaren'\n",
    "fifi= car[car['car_make']== speci]\n",
    "fifi.head(100)"
   ]
  },
  {
   "cell_type": "code",
   "execution_count": null,
   "id": "eb213a3f",
   "metadata": {},
   "outputs": [],
   "source": []
  },
  {
   "cell_type": "code",
   "execution_count": null,
   "id": "d8bc8f55",
   "metadata": {},
   "outputs": [],
   "source": []
  },
  {
   "cell_type": "code",
   "execution_count": null,
   "id": "675b2e4d",
   "metadata": {},
   "outputs": [],
   "source": []
  },
  {
   "cell_type": "code",
   "execution_count": null,
   "id": "d4d52400",
   "metadata": {},
   "outputs": [],
   "source": []
  },
  {
   "cell_type": "code",
   "execution_count": null,
   "id": "a8034219",
   "metadata": {},
   "outputs": [],
   "source": []
  },
  {
   "cell_type": "code",
   "execution_count": null,
   "id": "1e11880f",
   "metadata": {},
   "outputs": [],
   "source": []
  },
  {
   "cell_type": "code",
   "execution_count": null,
   "id": "19dcc451",
   "metadata": {},
   "outputs": [],
   "source": []
  },
  {
   "cell_type": "code",
   "execution_count": null,
   "id": "a477181c",
   "metadata": {},
   "outputs": [],
   "source": []
  },
  {
   "cell_type": "code",
   "execution_count": null,
   "id": "4fd81202",
   "metadata": {},
   "outputs": [],
   "source": []
  }
 ],
 "metadata": {
  "kernelspec": {
   "display_name": "Python 3 (ipykernel)",
   "language": "python",
   "name": "python3"
  },
  "language_info": {
   "codemirror_mode": {
    "name": "ipython",
    "version": 3
   },
   "file_extension": ".py",
   "mimetype": "text/x-python",
   "name": "python",
   "nbconvert_exporter": "python",
   "pygments_lexer": "ipython3",
   "version": "3.9.7"
  }
 },
 "nbformat": 4,
 "nbformat_minor": 5
}
